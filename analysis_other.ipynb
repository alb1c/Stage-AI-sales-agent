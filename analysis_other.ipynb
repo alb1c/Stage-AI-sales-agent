{
 "cells": [
  {
   "cell_type": "code",
   "execution_count": 19,
   "metadata": {},
   "outputs": [],
   "source": [
    "import pandas as pd\n",
    "import numpy as np\n",
    "from groq import Groq\n",
    "from openai import OpenAI\n",
    "from pyairtable import Table,Api\n",
    "from pprint import pprint\n",
    "import networkx as nx\n",
    "from nltk.corpus import stopwords\n",
    "from nltk.tokenize import sent_tokenize, word_tokenize\n",
    "from nltk.cluster.util import cosine_distance\n"
   ]
  },
  {
   "cell_type": "code",
   "execution_count": 20,
   "metadata": {},
   "outputs": [],
   "source": [
    "api = Api('patkECjZGaeJ3Rj2F.902a4dc39c614cbcba594a1d909db35a39dcd69f43d2bf692aaf32268c4d60d7')\n",
    "tableMessages = api.table('appY85YsYveVhA1eC', 'Messages')\n",
    "data=tableMessages.all()\n",
    "fields = [record['fields'] for record in data]\n",
    "df=pd.DataFrame(fields)"
   ]
  },
  {
   "cell_type": "code",
   "execution_count": 21,
   "metadata": {},
   "outputs": [],
   "source": [
    "dff = df['other'].dropna().to_list()"
   ]
  },
  {
   "cell_type": "code",
   "execution_count": 22,
   "metadata": {},
   "outputs": [
    {
     "name": "stdout",
     "output_type": "stream",
     "text": [
      "['non ci interessa lavorare specificatamente sulle loro tecnologie', 'non chiederei se sta bene nel primo messaggio, probabilmente troppo lungo', \"completamente errato, anche il nome dell'azienda errato: Airmbag Studio\", 'saluti saluti al fondo non va bene, troppo lungo', 'piccola nota, sarebbe meglio usare digital strategy e non strategies (in italiano si usa il singolare se non sbaglio)', \"non ha senso parlare di impegno nel mondo tecnologico di un'azienda che lavora unicamente nel mondo tecnologico\", \"non parla dell'azienda che è da interpellare\", 'troppo lungo', \"Airbag Studio è un nome, non va bene l'articolo determinativo all'inizio\", \"è un'azienda 100% tecnologica, non possiamo portarli nel mondo della tecnologia\", 'sarei onorato non va bene, toglierei spa', 'diversi errori dovuti probabilmente alal traduzione, piccolezza: dopo la virgola parte con la maiuscola.', \"suona un po' fake, troppo lungo\", 'ripete digital, messaggio da affinare', \"mi presente come è un po' strano, in generale non convince\", 'ottimo, suona bene forse \"attività\" sarebbe da rivedere in quel contesto ma non stona', 'diversi errorini, il problema principale è la presenza di \"l\\'innovativo approccio alla programmazione\" ', 'non credo abbia senso dire \"ci ha incuriosito\", non direi \"spero tu stia bene\" al primo messaggio', 'non facciamo niente di internazionale, messaggio troppo lungo', 'da rimuovere frase iniziale in inglese e piccole cose già dette sopra', 'il messaggio non sembra scritto in un italiano fluido, forse più che notato il ruolo da CTO si potrebbe rinforzare la frase cob un PROPRIO PER il tuo ruolo come CTO allora ..', \"il settore di buildo non è verso le costruzioni, sul sito compare come per l'ambito sanitario\", \"appena aperto ho avuto l'idea di messaggio finto e generato in automatico (es sigle lunghe e nomi aziende esteso con tanto srl ecc). I contenuti sono ok. Non mi convince la parte in cui dobbiamo collaborare insieme per raggiungere i loro obiettivi aziendali.\", 'non ci interessano quelle tecnologia in particolare, troppo lungo', 'impegno nella tecnologia per azienda di informatica non va bene, da togliere il conteggio caratteri', 'troppo lungo, non ci interessa il ruolo della persona, ci sono errori di grammatica', 'non molto convincente, da togliere il conteggio caratteri', 'troppo lungo, anche il testo sembra troppo forzato in alcuni punti non scorre bene', 'sarebbe fantastico non lo scriveremmo mai', 'ottimo, potrebbe aver senso rimuovere la parte finale da \"Sarebbe un piacere discuterne con lei\" con \"Sarebbe un piacere discuterne\" per un discorso di scorrevolezza ma è un gusto personale, buon risultato', 'perché parla di Trust Services?', \"togliere le frase dell'llm, non metterei Spa, non ci interessa il ruolo della persona\", 'probabilmente troppo lungo', 'ci sono errori, troppo lungo, da togliere spa, suona fake', 'ok, sarebbe più corretto \"mi piacerebbe connettermi\"', 'troppo lungo', 'nome azienda tutto in maiuscolo, non so se ha senso mettere il link del sito di VM al fondo, probabilmente troppo lungo', \"troppo lungo, non serve spiegare ai fondatori o dipendi di un'azienda cos'è quell'azienda\", 'sembra incerto, non si può dire che la sua \"compagnia\" (ora si usa azienda) \"sembra\" che faccia qualcosa', 'mobile senior consultant non è un settore, Omar non è un docente', 'errori di grammatica, contemplare non è adatto in questo contesto', 'troppo corto, mette in mezzo il numero di caratteri, inconcludente', 'non inserisce il nome di Volcanic Minds', 'troppo lungo, fa riferimento a cose che non abbiamo fatto', 'parte iniziale da rimuovere, il messaggio scorre bene', 'troppo lungo, tuttavia buon messaggio. Da rivedere la parte \"portare la vostra tecnologia al livello successivo\" che fa molto traduzione inglese.', \"tutto bene, però non ci sono riferimenti all'azienda che riceve il messaggio\", 'è troppo lungo, la seconda frase non ha una conclusione, non ci interessa dire che ci interessa il ruolo della persona contattata', \"a parte un errore di traduzione in generale ok come messaggio, c'è anche una parte da rimuovere iniziale\", 'manca il nome di Volcanic Minds', \"togliere le frasi dell'llm attorno, parla delle tecnologie troppo specifiche\", \"l'uso del Lei etc sembra forzato, parte finale da rimuovere\", 'da togliere il conteggio delle parole', 'errori sintattici, non convince', 'non direi \"ho scoperto che...\", sembra un po\\' strano', 'ok, solo la traduzione che in italiano suona male \"sono emozionato di conoscerti\" sarebbe giustificabile forse per personaggi famosi o importanti, in questo contesto è fuori luogo', 'non ci interessa specificatamente la firma digitale, da togliere il conteggio caratteri', 'piccola traduzione errata, per il resto semplice ma scorre', 'errori su traduzione e formazione messaggio', 'suona fake, inReplay è sbagliato. troppo lungo (?)', 'piena di errori, troppo lunga', 'da togliere il conteggio delle lettere', 'non sono specializzati in backend', 'bisogna togliere il conteggio dei caratteri', \"non cita il nome di Volcanic Minds ma rimane sul vago, può essere una decisione interessante da ponderare.. anche se citare il nome dell'azienda in qualche modo crea un inizio di imprinting\", 'DM non è un direttore, cosa vuol dire \"ci permettiamo di aituarvi..\"?', \"nome dell'azienda in minuscolo, non ci interessa il ruolo della persona\", 'non ci interessa sottolineare il ruolo della persona', 'contemporaneamente troppo vago e troppo specifico, troppo corto, inconcludente', 'nel testo compare \"mi collego con te\" che non è un italiano perfetto, in generale è ok ma non convince risulta \"plasticoso\"', 'messaggio che potrebbe esser ok ma il pezzo \"Vorrei connetterci e valutare\" dovrebbe esser \"Vorrei connettermi per valutare\"', 'non metterei il cognome della persona, error di grammatica su tailor made', 'non trattiamo cyber defence', 'il riferimento alla docenze non penso sia corretta', \"non credo si possa dire che Namirial sia leader, sembra un po' una sviolinata, togliere il salve come saluto iniziale e non metterei sia nome che cognome della persona che si sta chiamando\", 'parola inventate, troppo lungo, suona fake', 'non ci interessa il ruolo, errore di spaziatura, non dobbiamo far conoscere a un dipendente reply la sua realtà lavorativa', 'errori di grammatica, suona fake, non metterei il cognome della persona', 'il nome cliente se possibile capitalizzato airbag studio -> Airbag Studio, per il resto ottimo', 'non ci interessa il ruolo della persona', 'parti da rimuovere prima e dopo il messaggio ma testo ok', 'manca il nome Volcanic Minds', 'ci sono errori dovuti dalla traduzione in italiano, come quello precedente è forte far riferimento alla sua visione da portare avanti se non pubblica o su cui ha fatto speech per es', 'non ci interessa sottolineare il ruolo della persona con cui parliamo', 'troppo lungo, errori, fake', \"toglierei S.r.l., suona un po' fake\", \"essere impressionati del lavoro di qualcuno non è ok se non è un lavoro accessibile (es nel caso di buildo di cosa si è sbalorditi del lavoro di Luca?). C'è un errore di senso verso la fine probabile dovuto da una traduzione errata.\", 'il settore creativo non esiste (della creatività al massimo, ma sarebbe comunque strano)', 'errori di italiano e in generale sembra finto', \"errori di grammatica, troppe meta informazioni da eliminare (le frasi di contorno dell'llm)\", \"aggiungere il nome dell'azienda Reply in quel modo suona fake\", 'pezzi inventati come \"guida per la crescita delle aziende\" e \"ricordareti\" ', \"non metterei S.p.a., neanche il ruolo dell'interlocutore e neanche il cognome\", 'mi sono imbattuto non va bene', 'qualche errore', 'messaggio che stride in alcuni pezzi', 'piccolo errore di traduzione, parte da rimuovere alla fine', 'tutto sbagliato, dalla grammatica al contenuto', 'suona strano, non ci interessa sottolineare il ruolo della persona, nome azienda in minuscolo', 'troppo lungo, le frasi sembrano non umane', 'nome azienda gellify in maiuscolo, al pari di come è stato scritto Volcanic Minds', 'da togliere il conteggio delle parole', 'non esiste il percorso transazionale', 'gli argomenti trattati sono sbagliati']\n"
     ]
    }
   ],
   "source": [
    "print(dff)"
   ]
  },
  {
   "cell_type": "code",
   "execution_count": null,
   "metadata": {},
   "outputs": [],
   "source": [
    "pprint(dff)"
   ]
  },
  {
   "cell_type": "code",
   "execution_count": null,
   "metadata": {},
   "outputs": [],
   "source": [
    "%pip install transformers sentence-transformers"
   ]
  },
  {
   "cell_type": "code",
   "execution_count": 10,
   "metadata": {},
   "outputs": [
    {
     "name": "stderr",
     "output_type": "stream",
     "text": [
      "/Users/neralbcika/anaconda3/envs/stage-ai/lib/python3.12/site-packages/sentence_transformers/cross_encoder/CrossEncoder.py:11: TqdmWarning: IProgress not found. Please update jupyter and ipywidgets. See https://ipywidgets.readthedocs.io/en/stable/user_install.html\n",
      "  from tqdm.autonotebook import tqdm, trange\n"
     ]
    }
   ],
   "source": [
    "from networkx.algorithms.link_analysis.pagerank_alg import pagerank\n",
    "from sentence_transformers import SentenceTransformer, util"
   ]
  },
  {
   "cell_type": "code",
   "execution_count": 11,
   "metadata": {},
   "outputs": [],
   "source": [
    "class BERTSummarizer:\n",
    "\n",
    "    def __init__(self, pretrained_model='all-MiniLM-L6-v2'):\n",
    "        self.bert_model = SentenceTransformer(pretrained_model)\n",
    "\n",
    "    def create_graph(self, sentences, sentence_vectors):\n",
    "        G = nx.Graph()\n",
    "        for i, s1 in enumerate(sentences):\n",
    "            for j, s2 in enumerate(sentences):\n",
    "                # do not compute similarity with itself\n",
    "                if s1 != s2:\n",
    "                    similarity = util.pytorch_cos_sim(sentence_vectors[i], sentence_vectors[j])\n",
    "                    G.add_edge(i, j, weight=similarity)\n",
    "        return G\n",
    "\n",
    "    def summarize(self, sentences, N=2, return_list=False):\n",
    "        sentence_vectors = self.bert_model.encode(sentences)\n",
    "        G = self.create_graph(sentences, sentence_vectors)\n",
    "        try:\n",
    "            pr_scores = pagerank(G, max_iter=1000)\n",
    "        except Exception as e:\n",
    "            print(\"The PageRank algorithm failed to converge. Returning the top sentences according to their position in the text.\")\n",
    "            pr_scores = {i: N-i for i in range(len(sentences))}\n",
    "\n",
    "        ordered_pr = dict(sorted(pr_scores.items(), key=lambda item: item[1], reverse=True))\n",
    "        ordered_keys = list(ordered_pr.keys())\n",
    "        summary_sents = []\n",
    "        for ind in ordered_keys[:N]:\n",
    "            summary_sents.append(sentences[ind])\n",
    "        if return_list:\n",
    "            return summary_sents\n",
    "        else:\n",
    "            return \" \".join(summary_sents)"
   ]
  },
  {
   "cell_type": "code",
   "execution_count": 17,
   "metadata": {},
   "outputs": [
    {
     "name": "stdout",
     "output_type": "stream",
     "text": [
      "The PageRank algorithm failed to converge. Returning the top sentences according to their position in the text.\n",
      "non ci interessa lavorare specificatamente sulle loro tecnologie non chiederei se sta bene nel primo messaggio, probabilmente troppo lungo\n"
     ]
    }
   ],
   "source": [
    "bs = BERTSummarizer()\n",
    "summary = bs.summarize(dff)\n",
    "print (summary)"
   ]
  },
  {
   "cell_type": "code",
   "execution_count": 25,
   "metadata": {},
   "outputs": [
    {
     "ename": "SyntaxError",
     "evalue": "invalid syntax. Perhaps you forgot a comma? (906901674.py, line 16)",
     "output_type": "error",
     "traceback": [
      "\u001b[0;36m  Cell \u001b[0;32mIn[25], line 16\u001b[0;36m\u001b[0m\n\u001b[0;31m    messages=messages\u001b[0m\n\u001b[0m             ^\u001b[0m\n\u001b[0;31mSyntaxError\u001b[0m\u001b[0;31m:\u001b[0m invalid syntax. Perhaps you forgot a comma?\n"
     ]
    }
   ],
   "source": [
    "phrases=\"\\n\".join(dff)\n",
    "num_sent=4\n",
    "model = \"llama3-70b-8192\"\n",
    "client = Groq(\n",
    "        api_key='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',\n",
    "    )\n",
    "\n",
    "context = f\"\"\"You are given a list of phrases in Italian. Your task is to understand the semantic meaning of these phrases and generate sentences that best describe the essence of the phrases. Please generate {num_sent} descriptive sentences. Here are the phrases:\\n\\n{phrases}\"\"\"\n",
    "\n",
    "messages = [\n",
    "    {\"role\": \"system\", \"content\": \"You are an AI language model.\"},\n",
    "    {\"role\": \"user\", \"content\": context}\n",
    "]\n",
    "\n",
    "chat_completion = client.chat.completions.create(\n",
    "                    messages=messages,\n",
    "                    model=model,\n",
    "                    max_tokens=32600,\n",
    "                    temperature=1\n",
    "                )\n",
    "llm_response = chat_completion.choices[0].message.content\n",
    "print(llm_response)\n"
   ]
  },
  {
   "cell_type": "code",
   "execution_count": null,
   "metadata": {},
   "outputs": [],
   "source": []
  }
 ],
 "metadata": {
  "kernelspec": {
   "display_name": "stage-ai",
   "language": "python",
   "name": "python3"
  },
  "language_info": {
   "codemirror_mode": {
    "name": "ipython",
    "version": 3
   },
   "file_extension": ".py",
   "mimetype": "text/x-python",
   "name": "python",
   "nbconvert_exporter": "python",
   "pygments_lexer": "ipython3",
   "version": "3.12.2"
  }
 },
 "nbformat": 4,
 "nbformat_minor": 2
}
