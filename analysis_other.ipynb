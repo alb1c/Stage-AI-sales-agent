{
 "cells": [
  {
   "cell_type": "code",
   "execution_count": 19,
   "metadata": {},
   "outputs": [],
   "source": [
    "import pandas as pd\n",
    "import numpy as np\n",
    "from groq import Groq\n",
    "from openai import OpenAI\n",
    "from pyairtable import Table,Api\n",
    "from pprint import pprint\n",
    "import networkx as nx\n",
    "from nltk.corpus import stopwords\n",
    "from nltk.tokenize import sent_tokenize, word_tokenize\n",
    "from nltk.cluster.util import cosine_distance\n"
   ]
  },
  {
   "cell_type": "code",
   "execution_count": 20,
   "metadata": {},
   "outputs": [],
   "source": [
    "api = Api('patkECjZGaeJ3Rj2F.902a4dc39c614cbcba594a1d909db35a39dcd69f43d2bf692aaf32268c4d60d7')\n",
    "tableMessages = api.table('appY85YsYveVhA1eC', 'Messages')\n",
    "data=tableMessages.all()\n",
    "fields = [record['fields'] for record in data]\n",
    "df=pd.DataFrame(fields)"
   ]
  },
  {
   "cell_type": "code",
   "execution_count": 21,
   "metadata": {},
   "outputs": [],
   "source": [
    "dff = df['other'].dropna().to_list()"
   ]
  },
  {
   "cell_type": "code",
   "execution_count": null,
   "metadata": {},
   "outputs": [],
   "source": [
    "print(dff)"
   ]
  },
  {
   "cell_type": "code",
   "execution_count": null,
   "metadata": {},
   "outputs": [],
   "source": [
    "pprint(dff)"
   ]
  },
  {
   "cell_type": "code",
   "execution_count": null,
   "metadata": {},
   "outputs": [],
   "source": [
    "%pip install transformers sentence-transformers"
   ]
  },
  {
   "cell_type": "code",
   "execution_count": 10,
   "metadata": {},
   "outputs": [
    {
     "name": "stderr",
     "output_type": "stream",
     "text": [
      "/Users/neralbcika/anaconda3/envs/stage-ai/lib/python3.12/site-packages/sentence_transformers/cross_encoder/CrossEncoder.py:11: TqdmWarning: IProgress not found. Please update jupyter and ipywidgets. See https://ipywidgets.readthedocs.io/en/stable/user_install.html\n",
      "  from tqdm.autonotebook import tqdm, trange\n"
     ]
    }
   ],
   "source": [
    "from networkx.algorithms.link_analysis.pagerank_alg import pagerank\n",
    "from sentence_transformers import SentenceTransformer, util"
   ]
  },
  {
   "cell_type": "code",
   "execution_count": 11,
   "metadata": {},
   "outputs": [],
   "source": [
    "class BERTSummarizer:\n",
    "\n",
    "    def __init__(self, pretrained_model='all-MiniLM-L6-v2'):\n",
    "        self.bert_model = SentenceTransformer(pretrained_model)\n",
    "\n",
    "    def create_graph(self, sentences, sentence_vectors):\n",
    "        G = nx.Graph()\n",
    "        for i, s1 in enumerate(sentences):\n",
    "            for j, s2 in enumerate(sentences):\n",
    "                # do not compute similarity with itself\n",
    "                if s1 != s2:\n",
    "                    similarity = util.pytorch_cos_sim(sentence_vectors[i], sentence_vectors[j])\n",
    "                    G.add_edge(i, j, weight=similarity)\n",
    "        return G\n",
    "\n",
    "    def summarize(self, sentences, N=2, return_list=False):\n",
    "        sentence_vectors = self.bert_model.encode(sentences)\n",
    "        G = self.create_graph(sentences, sentence_vectors)\n",
    "        try:\n",
    "            pr_scores = pagerank(G, max_iter=1000)\n",
    "        except Exception as e:\n",
    "            print(\"The PageRank algorithm failed to converge. Returning the top sentences according to their position in the text.\")\n",
    "            pr_scores = {i: N-i for i in range(len(sentences))}\n",
    "\n",
    "        ordered_pr = dict(sorted(pr_scores.items(), key=lambda item: item[1], reverse=True))\n",
    "        ordered_keys = list(ordered_pr.keys())\n",
    "        summary_sents = []\n",
    "        for ind in ordered_keys[:N]:\n",
    "            summary_sents.append(sentences[ind])\n",
    "        if return_list:\n",
    "            return summary_sents\n",
    "        else:\n",
    "            return \" \".join(summary_sents)"
   ]
  },
  {
   "cell_type": "code",
   "execution_count": 17,
   "metadata": {},
   "outputs": [
    {
     "name": "stdout",
     "output_type": "stream",
     "text": [
      "The PageRank algorithm failed to converge. Returning the top sentences according to their position in the text.\n",
      "non ci interessa lavorare specificatamente sulle loro tecnologie non chiederei se sta bene nel primo messaggio, probabilmente troppo lungo\n"
     ]
    }
   ],
   "source": [
    "bs = BERTSummarizer()\n",
    "summary = bs.summarize(dff)\n",
    "print (summary)"
   ]
  },
  {
   "cell_type": "code",
   "execution_count": 31,
   "metadata": {},
   "outputs": [
    {
     "name": "stdout",
     "output_type": "stream",
     "text": [
      "('Here are five key objections synthesized from the given Italian phrases:\\n'\n",
      " '\\n'\n",
      " '1. The focus on specific technologies or roles is not of interest. The '\n",
      " 'messages should avoid emphasizing on certain technologies or positions, as '\n",
      " 'Airbag Studio is a fully digital company and the role of the person being '\n",
      " 'addressed is not relevant. The message length should also be reduced, and '\n",
      " 'errors due to translation should be corrected.\\n'\n",
      " '\\n'\n",
      " '2. The messages appear to be overly formal or insincere, containing phrases '\n",
      " 'like \"sono emozionato di conoscerti\" which would be more appropriate for '\n",
      " 'well-known personalities. Also, using the name of the company, Volcanic '\n",
      " 'Minds, should be consistent throughout the message.\\n'\n",
      " '\\n'\n",
      " '3. Incorrect references or assumptions have been made. The founder of Airbag '\n",
      " 'Studio has not been made aware of any plans or strategies. Additionally, '\n",
      " 'some mentioned sectors, like \"mobile senior consultant\" or \"settore buildo,\" '\n",
      " \"do not exist or are irrelevant. It's essential to have an accurate \"\n",
      " 'understanding of their business before making such claims.\\n'\n",
      " '\\n'\n",
      " '4. Some messages mention trust services or cyber defense, topics that do not '\n",
      " 'relate to Airbag Studio. It would be best to focus on relevant and accurate '\n",
      " 'subjects to maintain credibility.\\n'\n",
      " '\\n'\n",
      " '5. Inconsistencies in sentence structure, grammar, and formatting make the '\n",
      " 'messages difficult to read and understand. Removing unnecessary phrases and '\n",
      " 'ensuring correct usage of language can significantly improve the overall '\n",
      " 'impression and readability.')\n"
     ]
    }
   ],
   "source": [
    "phrases=\"\\n\".join(dff)\n",
    "num_sent=5\n",
    "model = \"mixtral-8x7b-32768\"\n",
    "client = Groq(\n",
    "        api_key='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',\n",
    "    )\n",
    "\n",
    "context = f\"\"\"You are given a list of phrases in Italian. Your task is to understand the semantic meaning of these phrases and generate sentences that best describe the essence of the phrases.\n",
    "Act like you are the person writing those phrases.\n",
    "Make them short and understandable, capturing key aspects. \n",
    "List {num_sent} of the most important objections made.\n",
    "Here are the phrases:\\n\\n{phrases}\"\"\"\n",
    "\n",
    "messages = [\n",
    "    {\"role\": \"system\", \"content\": \"You are an AI language model.\"},\n",
    "    {\"role\": \"user\", \"content\": context}\n",
    "]\n",
    "\n",
    "chat_completion = client.chat.completions.create(\n",
    "                    messages=messages,\n",
    "                    model=model,\n",
    "                    max_tokens=32600,\n",
    "                    temperature=1\n",
    "                )\n",
    "llm_response = chat_completion.choices[0].message.content\n",
    "pprint(llm_response)\n"
   ]
  },
  {
   "cell_type": "code",
   "execution_count": null,
   "metadata": {},
   "outputs": [],
   "source": []
  }
 ],
 "metadata": {
  "kernelspec": {
   "display_name": "stage-ai",
   "language": "python",
   "name": "python3"
  },
  "language_info": {
   "codemirror_mode": {
    "name": "ipython",
    "version": 3
   },
   "file_extension": ".py",
   "mimetype": "text/x-python",
   "name": "python",
   "nbconvert_exporter": "python",
   "pygments_lexer": "ipython3",
   "version": "3.12.2"
  }
 },
 "nbformat": 4,
 "nbformat_minor": 2
}
