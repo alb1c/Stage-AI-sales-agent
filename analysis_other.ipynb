{
 "cells": [
  {
   "cell_type": "code",
   "execution_count": 33,
   "metadata": {},
   "outputs": [],
   "source": [
    "import pandas as pd\n",
    "import numpy as np\n",
    "from groq import Groq\n",
    "from openai import OpenAI\n",
    "from pyairtable import Table,Api\n",
    "from pprint import pprint\n",
    "import networkx as nx\n",
    "from nltk.corpus import stopwords\n",
    "from nltk.tokenize import sent_tokenize, word_tokenize\n",
    "from nltk.cluster.util import cosine_distance\n"
   ]
  },
  {
   "cell_type": "code",
   "execution_count": 34,
   "metadata": {},
   "outputs": [],
   "source": [
    "api = Api('patkECjZGaeJ3Rj2F.902a4dc39c614cbcba594a1d909db35a39dcd69f43d2bf692aaf32268c4d60d7')\n",
    "tableMessages = api.table('appY85YsYveVhA1eC', 'Messages')\n",
    "data=tableMessages.all()\n",
    "fields = [record['fields'] for record in data]\n",
    "df=pd.DataFrame(fields)"
   ]
  },
  {
   "cell_type": "code",
   "execution_count": 35,
   "metadata": {},
   "outputs": [],
   "source": [
    "dff = df['other'].dropna().to_list()"
   ]
  },
  {
   "cell_type": "markdown",
   "metadata": {},
   "source": []
  },
  {
   "cell_type": "code",
   "execution_count": null,
   "metadata": {},
   "outputs": [],
   "source": [
    "pprint(dff)"
   ]
  },
  {
   "cell_type": "code",
   "execution_count": 11,
   "metadata": {},
   "outputs": [],
   "source": [
    "from networkx.algorithms.link_analysis.pagerank_alg import pagerank\n",
    "from sentence_transformers import SentenceTransformer, util\n",
    "\n",
    "class BERTSummarizer:\n",
    "\n",
    "    def __init__(self, pretrained_model='all-MiniLM-L6-v2'):\n",
    "        self.bert_model = SentenceTransformer(pretrained_model)\n",
    "\n",
    "    def create_graph(self, sentences, sentence_vectors):\n",
    "        G = nx.Graph()\n",
    "        for i, s1 in enumerate(sentences):\n",
    "            for j, s2 in enumerate(sentences):\n",
    "                # do not compute similarity with itself\n",
    "                if s1 != s2:\n",
    "                    similarity = util.pytorch_cos_sim(sentence_vectors[i], sentence_vectors[j])\n",
    "                    G.add_edge(i, j, weight=similarity)\n",
    "        return G\n",
    "\n",
    "    def summarize(self, sentences, N=2, return_list=False):\n",
    "        sentence_vectors = self.bert_model.encode(sentences)\n",
    "        G = self.create_graph(sentences, sentence_vectors)\n",
    "        try:\n",
    "            pr_scores = pagerank(G, max_iter=1000)\n",
    "        except Exception as e:\n",
    "            print(\"The PageRank algorithm failed to converge. Returning the top sentences according to their position in the text.\")\n",
    "            pr_scores = {i: N-i for i in range(len(sentences))}\n",
    "\n",
    "        ordered_pr = dict(sorted(pr_scores.items(), key=lambda item: item[1], reverse=True))\n",
    "        ordered_keys = list(ordered_pr.keys())\n",
    "        summary_sents = []\n",
    "        for ind in ordered_keys[:N]:\n",
    "            summary_sents.append(sentences[ind])\n",
    "        if return_list:\n",
    "            return summary_sents\n",
    "        else:\n",
    "            return \" \".join(summary_sents)\n",
    "\n",
    "bs = BERTSummarizer()\n",
    "summary = bs.summarize(dff)\n",
    "print (summary)"
   ]
  },
  {
   "cell_type": "code",
   "execution_count": 38,
   "metadata": {},
   "outputs": [
    {
     "name": "stdout",
     "output_type": "stream",
     "text": [
      "('1. We are not interested in working specifically on their technologies.\\n'\n",
      " '2. Starting with a long message and asking if the recipient is well might '\n",
      " 'not be appropriate.\\n'\n",
      " '3. There are factual errors, including the name of the company, which is '\n",
      " 'Airbag Studio, not Airmbag Studio.\\n'\n",
      " '4. Adding \"saluti saluti\" at the end is too lengthy and informal.\\n'\n",
      " '5. It\\'s better to use \"digital strategy\" instead of \"strategies\" in '\n",
      " 'Italian.\\n'\n",
      " '6. There is no need to mention a commitment to technology for a '\n",
      " 'technology-focused company.\\n'\n",
      " '7. The message should focus on the company being contacted.\\n'\n",
      " '8. The message is too lengthy and contains redundant information.\\n'\n",
      " '9. Using an article before the company name, Airbag Studio, is incorrect.\\n'\n",
      " '10. The innovative approach to programming may not make sense in this '\n",
      " 'context.\\n'\n",
      " '\\n'\n",
      " 'Additional objections:\\n'\n",
      " '\\n'\n",
      " '11. The message should not include unnecessary elements like \"ci ha '\n",
      " 'incuriosito\" or \"spero tu stai bene\".\\n'\n",
      " '12. The message should avoid referring to international aspects if not '\n",
      " 'applicable.\\n'\n",
      " '13. The message should be written in fluent Italian, and the role of CTO '\n",
      " 'should be emphasized.\\n'\n",
      " '14. Some phrases, such as \"portare la vostra tecnologia al livello '\n",
      " 'successivo,\" may seem like direct translations from English.\\n'\n",
      " '15. The message should clearly mention the name of the company sending the '\n",
      " 'message, such as Volcanic Minds.\\n'\n",
      " '16. The message should avoid lengthy greetings and overused phrases like \"ho '\n",
      " 'scoperto che...\".\\n'\n",
      " '17. The message should not focus on the role of the contact person.\\n'\n",
      " '18. The message should not contain spelling mistakes, typos, or grammatical '\n",
      " 'errors.\\n'\n",
      " '19. The message should not include unspecific sectors, like \"mobile senior '\n",
      " 'consultant\" or \"settore creativo\".\\n'\n",
      " '20. The message should not include unnecessary information, such as company '\n",
      " 'founders or number of employees.\\n'\n",
      " '21. The message should not contain untranslated English words, like \"DM\" or '\n",
      " '\"InReplay\".\\n'\n",
      " '22. The message should not claim a company as a leader without proper '\n",
      " 'justification.')\n"
     ]
    }
   ],
   "source": [
    "phrases=\"\\n\".join(dff)\n",
    "num_sent=10\n",
    "model = \"mixtral-8x7b-32768\"\n",
    "client = Groq(\n",
    "        api_key='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',\n",
    "    )\n",
    "\n",
    "context = f\"\"\"You are given a list of phrases in Italian. Your task is to extract the most important objections\n",
    " and generate sentences that best describe the essence of the phrases.\n",
    "Act like you are the person writing those phrases.\n",
    "Make them short and understandable, capturing key aspects. \n",
    "List {num_sent} of the most important objections made.\n",
    "Here are the phrases:\\n\\n{phrases}\"\"\"\n",
    "\n",
    "messages = [\n",
    "    {\"role\": \"system\", \"content\": \"You are an AI language model.\"},\n",
    "    {\"role\": \"user\", \"content\": context}\n",
    "]\n",
    "\n",
    "chat_completion = client.chat.completions.create(\n",
    "                    messages=messages,\n",
    "                    model=model,\n",
    "                    max_tokens=32600,\n",
    "                    temperature=1\n",
    "                )\n",
    "llm_response = chat_completion.choices[0].message.content\n",
    "pprint(llm_response)\n"
   ]
  },
  {
   "cell_type": "code",
   "execution_count": null,
   "metadata": {},
   "outputs": [],
   "source": []
  }
 ],
 "metadata": {
  "kernelspec": {
   "display_name": "stage-ai",
   "language": "python",
   "name": "python3"
  },
  "language_info": {
   "codemirror_mode": {
    "name": "ipython",
    "version": 3
   },
   "file_extension": ".py",
   "mimetype": "text/x-python",
   "name": "python",
   "nbconvert_exporter": "python",
   "pygments_lexer": "ipython3",
   "version": "3.12.2"
  }
 },
 "nbformat": 4,
 "nbformat_minor": 2
}
